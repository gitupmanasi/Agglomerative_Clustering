{
 "cells": [
  {
   "cell_type": "code",
   "execution_count": 1,
   "metadata": {},
   "outputs": [],
   "source": [
    "#hierarchical agglomeratic clustering: Complete linkage\n",
    "#import libraries\n",
    "import numpy as np \n",
    "import pandas as pd \n",
    "from scipy.cluster.hierarchy import dendrogram, linkage\n",
    "from scipy.spatial.distance import cdist\n",
    "from matplotlib import pyplot as plt\n",
    "from scipy.spatial import distance\n",
    "import math\n",
    "%matplotlib inline\n",
    "np.set_printoptions(precision=5, suppress=True)"
   ]
  },
  {
   "cell_type": "code",
   "execution_count": 44,
   "metadata": {},
   "outputs": [],
   "source": [
    "points_2 = pd.read_csv(\"C:/Users/ManasiAdmin/Desktop/College stuff/Semester-6/Information Retreival Semester-6/Agglomeratic_clustering/dataset/points_2.csv\", names=['x0', 'x1'])"
   ]
  },
  {
   "cell_type": "code",
   "execution_count": 59,
   "metadata": {},
   "outputs": [
    {
     "data": {
      "text/plain": [
       "<matplotlib.collections.PathCollection at 0x19e36ecb550>"
      ]
     },
     "execution_count": 59,
     "metadata": {},
     "output_type": "execute_result"
    },
    {
     "data": {
      "image/png": "[encoded data removed]",
      "text/plain": [
       "<Figure size 432x288 with 1 Axes>"
      ]
     },
     "metadata": {},
     "output_type": "display_data"
    }
   ],
   "source": [
    "plt.scatter(points_2['x0'],points_2['x1'])"
   ]
  },
  {
   "cell_type": "code",
   "execution_count": 54,
   "metadata": {},
   "outputs": [],
   "source": [
    "def completelink_distance(clusters ,cluster_num):\n",
    "    while len(clusters) is not cluster_num:\n",
    "        # Clustering           (\n",
    "        closest_distance=clust_1=clust_2 = math.inf\n",
    "        # going through each cluster except second last\n",
    "        for cluster_id, cluster in enumerate(clusters[:len(clusters)]): \n",
    "            for cluster2_id, cluster2 in enumerate(clusters[(cluster_id+1):]):  \n",
    "                furthest_cluster_dist = -1\n",
    "\n",
    "                for point_id,point in enumerate(cluster): \n",
    "                    for point2_id, point2 in enumerate(cluster2):\n",
    "# make sure that our furthest distance holds\n",
    "                        if furthest_cluster_dist < distance.euclidean(point,point2): \n",
    "                            furthest_cluster_dist = distance.euclidean(point,point2)\n",
    "#Furthest distance need to be minimized\n",
    "                if furthest_cluster_dist < closest_distance:\n",
    "                    closest_distance = furthest_cluster_dist\n",
    "                    clust_1 = cluster_id\n",
    "                    clust_2 = cluster2_id+cluster_id+1\n",
    "               \n",
    "       \n",
    "        clusters[clust_1].extend(clusters[clust_2]) \n",
    "       #Cluster once again \n",
    "        clusters.pop(clust_2) \n",
    "    return(clusters)"
   ]
  },
  {
   "cell_type": "code",
   "execution_count": 56,
   "metadata": {},
   "outputs": [],
   "source": [
    "#Hierarchical agglomeratic clustering for multiple linkage function definition\n",
    "def agglomeratic(data, cluster_num, metric = 'complete'):\n",
    "    # initialize every point as a cluster\n",
    "    init_clusters=[]\n",
    "    for index, row in data.iterrows():\n",
    "        init_clusters.append([[row['x0'], row['x1']]])\n",
    "    if metric is 'complete':\n",
    "        return completelink_distance(init_clusters, cluster_num)"
   ]
  },
  {
   "cell_type": "code",
   "execution_count": 60,
   "metadata": {},
   "outputs": [
    {
     "data": {
      "image/png": "[encoded data removed]",
      "text/plain": [
       "<Figure size 432x288 with 1 Axes>"
      ]
     },
     "metadata": {},
     "output_type": "display_data"
    }
   ],
   "source": [
    "clusters = agglomeratic(points_1,2)\n",
    "colors = ['blue', 'red']\n",
    "for cluster_index, cluster in enumerate(clusters):\n",
    "    for point_index, point in enumerate(cluster):\n",
    "        plt.plot([point[0]], [point[1]], marker='o', markersize=7, color=colors[cluster_index])"
   ]
  }
 ],
 "metadata": {
  "kernelspec": {
   "display_name": "Python 3",
   "language": "python",
   "name": "python3"
  },
  "language_info": {
   "codemirror_mode": {
    "name": "ipython",
    "version": 3
   },
   "file_extension": ".py",
   "mimetype": "text/x-python",
   "name": "python",
   "nbconvert_exporter": "python",
   "pygments_lexer": "ipython3",
   "version": "3.6.5"
  }
 },
 "nbformat": 4,
 "nbformat_minor": 2
}
